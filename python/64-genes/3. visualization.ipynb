{
 "cells": [
  {
   "cell_type": "markdown",
   "id": "abandoned-frame",
   "metadata": {},
   "source": [
    "# Visualization\n",
    "\n",
    "2021-04-15"
   ]
  },
  {
   "cell_type": "code",
   "execution_count": null,
   "id": "floppy-confidence",
   "metadata": {},
   "outputs": [],
   "source": [
    "# Import Packages\n",
    "\n",
    "%load_ext autoreload\n",
    "%autoreload 2\n",
    "\n",
    "import os\n",
    "import warnings \n",
    "warnings.filterwarnings('ignore')\n",
    "import numpy as np\n",
    "import pandas as pd\n",
    "import scanpy as sc\n",
    "import seaborn as sns\n",
    "import matplotlib.pyplot as plt\n",
    "from skimage.filters import threshold_otsu, gaussian\n",
    "from skimage.morphology import remove_small_objects\n",
    "from matplotlib.colors import ListedColormap, LinearSegmentedColormap\n",
    "from statannot import add_stat_annotation\n",
    "from anndata import AnnData\n",
    "\n",
    "# Customized packages\n",
    "from starmap.utilities import *\n",
    "from starmap.sequencing import *\n",
    "from starmap.obj import STARMapDataset, load_data\n",
    "# import starmap.analyze as anz\n",
    "# import starmap.viz as viz\n",
    "import starmap.sc_util as su\n",
    "\n",
    "# test()"
   ]
  },
  {
   "cell_type": "code",
   "execution_count": null,
   "id": "frozen-repository",
   "metadata": {},
   "outputs": [],
   "source": [
    "# Get functions \n",
    "\n",
    "import colorsys\n",
    "from random import shuffle\n",
    "\n",
    "def intervals(parts, start_point, end_point):\n",
    "    duration = end_point - start_point\n",
    "    part_duration = duration / parts\n",
    "    return [((i * part_duration + (i + 1) * part_duration)/2) + start_point for i in range(parts)]\n",
    "\n",
    "def change_width(ax, new_value) :\n",
    "    for patch in ax.patches :\n",
    "        current_width = patch.get_width()\n",
    "        diff = current_width - new_value\n",
    "\n",
    "        # we change the bar width\n",
    "        patch.set_width(new_value)\n",
    "\n",
    "        # we recenter the bar\n",
    "        patch.set_x(patch.get_x() + diff * .5)"
   ]
  },
  {
   "cell_type": "markdown",
   "id": "after-oracle",
   "metadata": {},
   "source": [
    "## Input"
   ]
  },
  {
   "cell_type": "code",
   "execution_count": null,
   "id": "fdd4621c-cad5-4144-965e-17778ef32b37",
   "metadata": {},
   "outputs": [],
   "source": [
    "# path \n",
    "base_path = 'Z:/Data/Analyzed/2021-03-20-mAD-64-genes-reads-assignment/'"
   ]
  },
  {
   "cell_type": "code",
   "execution_count": null,
   "id": "collectible-toddler",
   "metadata": {},
   "outputs": [],
   "source": [
    "# Load adata\n",
    "adata = sc.read_h5ad('Z:/Data/Analyzed/2021-03-20-mAD-64-genes-reads-assignment/output/2021-04-22-starmap-mAD-64-genes-scaled.h5ad')\n",
    "adata"
   ]
  },
  {
   "cell_type": "code",
   "execution_count": null,
   "id": "imperial-excuse",
   "metadata": {},
   "outputs": [],
   "source": [
    "# Load data and store the information to uns (use scaled version to save computational time)\n",
    "for sample in sorted(adata.obs['sample'].unique()):\n",
    "    print(sample)\n",
    "    \n",
    "    # Load segmentation\n",
    "    current_seg_path = os.path.join(base_path, sample, 'scaled/labeled_cells.tif')\n",
    "    current_img = tifffile.imread(current_seg_path)\n",
    "    \n",
    "    # Load plaque image\n",
    "    current_plaque_path = os.path.join(base_path, sample, 'scaled/plaque.tif')\n",
    "    current_plaque = tifffile.imread(current_plaque_path)\n",
    "    # uniform manual threshold \n",
    "    current_plaque = gaussian(current_plaque.astype(np.float), 2) > 30\n",
    "    # current_plaque = remove_small_objects(current_plaque, min_size=64, connectivity=4)\n",
    "    \n",
    "    # Load tau image\n",
    "    current_tau_path = os.path.join(base_path, sample, 'scaled/tau_mask.tif')\n",
    "    current_tau = tifffile.imread(current_tau_path)\n",
    "\n",
    "    # Load Gfap image\n",
    "    current_gfap_path = os.path.join(base_path, sample, 'scaled/Gfap_mask.tif')\n",
    "    current_gfap = tifffile.imread(current_gfap_path)\n",
    "\n",
    "    \n",
    "    # Store the images to adata object\n",
    "    current_key = f\"{sample}_morph\"\n",
    "    adata.uns[current_key] = {}\n",
    "    adata.uns[current_key]['label_img'] = current_img\n",
    "    adata.uns[current_key]['plaque'] = current_plaque\n",
    "    adata.uns[current_key]['tau'] = current_tau\n",
    "    adata.uns[current_key]['Gfap'] = current_gfap"
   ]
  },
  {
   "cell_type": "code",
   "execution_count": null,
   "id": "registered-classroom",
   "metadata": {},
   "outputs": [],
   "source": [
    "# Restore convex hull and top-level info\n",
    "for sample in sorted(adata.obs['sample'].unique()):\n",
    "    print(sample)\n",
    "    \n",
    "    current_key = f\"{sample}_morph\"\n",
    "    adata.uns[current_key]['qhulls'], adata.uns[current_key]['coords'], adata.uns[current_key]['centroids'] = su.get_qhulls(adata.uns[current_key]['label_img'])\n",
    "    \n",
    "    current_index = adata.obs['sample'] == sample\n",
    "    adata.uns[current_key]['good_cells'] = adata.obs.loc[current_index, 'orig_index'].astype(int).values\n",
    "    adata.uns[current_key]['colors'] = adata.obs.loc[current_index, 'top_level'].cat.codes.values\n",
    "    \n",
    "    # add tau positive info\n",
    "    # tau_threshold = 30\n",
    "    # adata.uns[current_key]['tau_index'] = (adata.obs['tau'] > tau_threshold) & (current_index)\n",
    "    "
   ]
  },
  {
   "cell_type": "code",
   "execution_count": null,
   "id": "narrow-necklace",
   "metadata": {},
   "outputs": [],
   "source": [
    "# Figure parameter\n",
    "plt.rcParams['savefig.dpi'] = 100"
   ]
  },
  {
   "cell_type": "markdown",
   "id": "prompt-killer",
   "metadata": {},
   "source": [
    "## Top-level"
   ]
  },
  {
   "cell_type": "code",
   "execution_count": null,
   "id": "planned-capacity",
   "metadata": {},
   "outputs": [],
   "source": [
    "%%time\n",
    "# Run PCA\n",
    "sc.tl.pca(adata, svd_solver='arpack')\n",
    "\n",
    "# Plot explained variance \n",
    "sc.pl.pca_variance_ratio(adata, log=False)\n",
    "\n",
    "# Computing the neighborhood graph\n",
    "n_neighbors = 50\n",
    "n_pcs = 30\n",
    "cluster_resolution = 1\n",
    "\n",
    "sc.pp.neighbors(adata, n_neighbors=n_neighbors, n_pcs=n_pcs)\n",
    "\n",
    "# Run UMAP\n",
    "sc.tl.umap(adata)"
   ]
  },
  {
   "cell_type": "markdown",
   "id": "returning-vegetarian",
   "metadata": {},
   "source": [
    "### UMAP"
   ]
  },
  {
   "cell_type": "code",
   "execution_count": null,
   "id": "surface-conversation",
   "metadata": {},
   "outputs": [],
   "source": [
    "# Plot single meta UMAP\n",
    "sc.pl.umap(adata, color='sample', save='_sample')\n",
    "sc.pl.umap(adata, color='batch', save='_batch')\n",
    "sc.pl.umap(adata, color='group', save='_group')\n",
    "sc.pl.umap(adata, color='time', save='_time')\n",
    "\n",
    "# Plot sample-wise UMAP\n",
    "for sample in sorted(adata.obs['sample'].unique()):\n",
    "    print(sample)\n",
    "    sc.pl.umap(adata, color='sample', groups=sample, save=f'_sample_{sample}')\n",
    "\n",
    "# Plot group-wise UMAP\n",
    "for group in sorted(adata.obs['group'].unique()):\n",
    "    print(group)\n",
    "    sc.pl.umap(adata, color='group', groups=group, save=f'_group_{group}')\n",
    "\n",
    "# Save log\n",
    "with open(f'./figures/log.txt', 'w') as f:\n",
    "    f.write(f\"\"\"Number of neighbor: {n_neighbors}\n",
    "Number of PC: {n_pcs}\"\"\")"
   ]
  },
  {
   "cell_type": "code",
   "execution_count": null,
   "id": "reliable-beads",
   "metadata": {},
   "outputs": [],
   "source": [
    "# Check color legend\n",
    "top_cpl = []\n",
    "for i in adata.uns['top_level_order_64']:\n",
    "    top_cpl.append(adata.uns['top_rgb_dict_64'][i])\n",
    "\n",
    "top_cpl = sns.color_palette(top_cpl)\n",
    "top_cmap = ListedColormap(top_cpl.as_hex())\n",
    "sns.palplot(top_cpl, size=3)\n",
    "plt.xticks(range(len(adata.uns['top_level_order_64'])), adata.uns['top_level_order_64'], size=10, rotation=45)\n",
    "plt.tight_layout()\n",
    "plt.savefig(f'./figures/color_legend_top.png')\n",
    "plt.show()"
   ]
  },
  {
   "cell_type": "code",
   "execution_count": null,
   "id": "civil-uganda",
   "metadata": {},
   "outputs": [],
   "source": [
    "# Plot UMAP with cluster labels w/ new color\n",
    "sc.pl.umap(adata, color='top_level', frameon=False, \n",
    "           palette=top_cpl, save='_legend_side')\n",
    "\n",
    "# Plot UMAP with cluster labels w/ new color\n",
    "sc.pl.umap(adata, color='top_level', legend_loc='on data',\n",
    "           legend_fontsize=8, legend_fontoutline=2, frameon=False, \n",
    "           palette=top_cpl, save=True)\n",
    "\n",
    "# Plot sample wise UMAP with top-level labels \n",
    "for sample in sorted(adata.obs['sample'].unique()):\n",
    "    print(sample)\n",
    "    ax = sc.pl.umap(adata, show=False, size=(120000 / adata.n_obs))\n",
    "    sc.pl.umap(adata[adata.obs[\"sample\"] == sample], color='top_level', frameon=True, ax=ax, size=(120000 / adata.n_obs),\n",
    "               palette=top_cpl, save=f'_{sample}')\n",
    "\n",
    "# Plot group wise UMAP with top-level labels \n",
    "for group in sorted(adata.obs['group'].unique()):\n",
    "    print(group)\n",
    "    ax = sc.pl.umap(adata, show=False, size=(120000 / adata.n_obs))\n",
    "    sc.pl.umap(adata[adata.obs[\"group\"] == group], color='top_level', frameon=True, ax=ax, size=(120000 / adata.n_obs),\n",
    "               palette=top_cpl, save=f'_{group}')"
   ]
  },
  {
   "cell_type": "markdown",
   "id": "appropriate-thumb",
   "metadata": {},
   "source": [
    "### Marker related "
   ]
  },
  {
   "cell_type": "code",
   "execution_count": null,
   "id": "retained-republic",
   "metadata": {},
   "outputs": [],
   "source": [
    "# Find gene markers for each cluster\n",
    "sc.tl.rank_genes_groups(adata, 'top_level', method='wilcoxon')\n",
    "\n",
    "# # Plot logFC heatmap\n",
    "# sc.pl.rank_genes_groups_heatmap(adata, n_genes=5, groupby='top_level', min_logfoldchange=1, use_raw=False, swap_axes=True, \n",
    "#                                 vmin=-5, vmax=5, cmap='bwr', show_gene_labels=True, values_to_plot='logfoldchanges',\n",
    "#                                 dendrogram=False, figsize=(30, 15), save='_logFC')\n",
    "\n",
    "# Plot z-score heatmap\n",
    "sc.pl.rank_genes_groups_heatmap(adata, n_genes=5, groupby='top_level', min_logfoldchange=1, use_raw=False, swap_axes=True, \n",
    "                                vmin=-5, vmax=5, cmap='bwr', show_gene_labels=True,\n",
    "                                dendrogram=False, figsize=(30, 15), save='_zscore')\n",
    "\n",
    "# Plot z-score heatmap big\n",
    "sc.pl.rank_genes_groups_heatmap(adata, n_genes=15, groupby='top_level', min_logfoldchange=1, use_raw=False, swap_axes=True, \n",
    "                                vmin=-5, vmax=5, cmap='bwr', show_gene_labels=False,\n",
    "                                dendrogram=False, figsize=(30, 15), save='_zscore_big')\n",
    "\n",
    "# Plot logFC dotplot\n",
    "sc.pl.rank_genes_groups_dotplot(adata, n_genes=5, groupby='top_level', values_to_plot='logfoldchanges', min_logfoldchange=1, \n",
    "                                vmax=5, vmin=-5, cmap='bwr', save='logFC')\n",
    "\n",
    "# Plot expression violin plot\n",
    "sc.pl.rank_genes_groups_stacked_violin(adata, n_genes=5, groupby='top_level', min_logfoldchange=1, \n",
    "                                       cmap='viridis_r', save='top')\n",
    "\n",
    "# Plot expression violin plot\n",
    "sc.pl.rank_genes_groups_stacked_violin(adata, n_genes=5, groupby='top_level', min_logfoldchange=1, \n",
    "                                       cmap='viridis_r', dendrogram=False, save='top_noden')\n",
    "\n",
    "\n",
    "# # Print markers \n",
    "# markers = []\n",
    "# temp = pd.DataFrame(adata.uns['rank_genes_groups']['names']).head(5)\n",
    "# for i in range(temp.shape[1]):\n",
    "#     curr_col = temp.iloc[:, i].to_list()\n",
    "#     markers = markers + curr_col\n",
    "#     print(curr_col)\n",
    "    \n",
    "# print(markers)\n",
    "# plt.figure(figsize=(20,10))\n",
    "# su.plot_heatmap_with_labels(adata, markers, 'leiden', use_labels=top_level_order,\n",
    "#                             cmap=cluster_cmap, show_axis=True, font_size=10)\n",
    "# plt.savefig('./figures/heatmap_top_v2.pdf')"
   ]
  },
  {
   "cell_type": "markdown",
   "id": "hungarian-collar",
   "metadata": {},
   "source": [
    "### Composition bar plot"
   ]
  },
  {
   "cell_type": "code",
   "execution_count": null,
   "id": "indie-clause",
   "metadata": {},
   "outputs": [],
   "source": [
    "# Composition Barplot \n",
    "n_cat = adata.obs['sample'].cat.categories.shape[0]\n",
    "fig, ax = plt.subplots(n_cat, 1, figsize=(10,10))\n",
    "fig.tight_layout()\n",
    "\n",
    "for i, sample in enumerate(adata.obs['sample'].cat.categories):\n",
    "    \n",
    "    curr_cells = (adata.obs['sample'] == sample)\n",
    "    temp = adata[curr_cells, :]\n",
    "\n",
    "    cell_dist = pd.DataFrame(temp.obs['top_level'].value_counts())\n",
    "    cell_dist['counts'] = cell_dist['top_level']\n",
    "    cell_dist['top_level'] = cell_dist.index\n",
    "    cell_dist['top_level'] = cell_dist['top_level'].astype(object)\n",
    "    cell_dist = cell_dist.reset_index(drop=True)\n",
    "    cell_dist = cell_dist.loc[cell_dist['counts'] != 0, :]\n",
    "    cell_dist['top_level'] = cell_dist['top_level'].astype('category')\n",
    "    cell_dist['top_level'] = cell_dist['top_level'].cat.reorder_categories(adata.uns['top_level_order'])\n",
    "\n",
    "\n",
    "    g = sns.barplot(x='top_level', y='counts', data=cell_dist, palette=top_cpl, ax=ax[i]) \n",
    "    for index, sub in enumerate(cell_dist['top_level'].cat.categories):\n",
    "        curr_position = round(cell_dist.loc[cell_dist['top_level'] == sub, 'counts'].values[0], 1)\n",
    "        g.text(index, curr_position, curr_position, color='black', ha=\"center\")\n",
    "\n",
    "    for spine in ax[i].spines.values():\n",
    "        spine.set_visible(False)\n",
    "        \n",
    "    ax[i].set_ylabel(sample, rotation=0, labelpad=50)\n",
    "    # ax[i].set(ylim=(0, 1000))\n",
    "    if i == n_cat-1:\n",
    "        ax[i].get_xaxis().set_visible(True)\n",
    "        ax[i].tick_params(top=False, bottom=True, left=False, right=False,\n",
    "                          labeltop=False, labelleft=False, labelright=False, labelbottom=True)\n",
    "    else:\n",
    "        ax[i].get_xaxis().set_visible(False)\n",
    "        ax[i].tick_params(top=False, bottom=False, left=False, right=False,\n",
    "                          labeltop=False, labelleft=False, labelright=False, labelbottom=False)\n",
    "            \n",
    "fig.suptitle(f'Top-level cell type count', y=1.03)  \n",
    "plt.savefig('./figures/top_level_count_barplot.pdf', bbox_inches='tight')\n",
    "plt.show()"
   ]
  },
  {
   "cell_type": "markdown",
   "id": "proof-damages",
   "metadata": {},
   "source": [
    "### Spatial cell type map"
   ]
  },
  {
   "cell_type": "code",
   "execution_count": null,
   "id": "earned-february",
   "metadata": {},
   "outputs": [],
   "source": [
    "# Spatial cell type map\n",
    "for sample in sorted(adata.obs['sample'].unique()):\n",
    "    print(sample)\n",
    "    su.plot_poly_cells_cluster_by_sample(adata, sample, top_cmap, show_plaque=True, show_tau=True, linewidth=0.5,\n",
    "                                        figscale=3, width=10, height=10, save=True, show=False)"
   ]
  },
  {
   "cell_type": "code",
   "execution_count": null,
   "id": "seven-massage",
   "metadata": {},
   "outputs": [],
   "source": [
    "# Spatial cell type map\n",
    "for sample in sorted(adata.obs['sample'].unique()):\n",
    "    print(sample)\n",
    "    su.plot_poly_cells_cluster_by_sample(adata, sample, top_cmap, show_plaque=True, show_tau=True, \n",
    "                                         save_as_real_size=True, linewidth=0.5,\n",
    "                                        figscale=3, width=10, height=10, save=True, show=False)"
   ]
  },
  {
   "cell_type": "markdown",
   "id": "olympic-stylus",
   "metadata": {},
   "source": [
    "## Others"
   ]
  },
  {
   "cell_type": "markdown",
   "id": "allied-damage",
   "metadata": {},
   "source": [
    "### Spatial map with Gfap "
   ]
  },
  {
   "cell_type": "code",
   "execution_count": null,
   "id": "green-trademark",
   "metadata": {},
   "outputs": [],
   "source": [
    "cpl = sns.color_palette(['#0045db'], as_cmap=True)\n",
    "cmap = ListedColormap(cpl)\n",
    "sns.palplot(cpl)"
   ]
  },
  {
   "cell_type": "code",
   "execution_count": null,
   "id": "limited-expense",
   "metadata": {},
   "outputs": [],
   "source": [
    "# Spatial cell type \n",
    "for sample in sorted(sdata.obs['sample'].unique()):\n",
    "    print(sample)\n",
    "    \n",
    "    current_key = f\"{sample}_morph\"\n",
    "    current_index = sdata.obs['sample'] == sample\n",
    "    # change to new color \n",
    "    sdata.uns[current_key]['colors'] = sdata.obs.loc[current_index, 'top_level'].cat.codes.values\n",
    "    sdata.uns[current_key]['good_cells'] = sdata.obs.loc[current_index, 'orig_index'].astype(int).values\n",
    "    \n",
    "    su.plot_poly_cells_cluster_by_sample(sdata, sample, cmap, show_plaque=True, show_tau=True,\n",
    "                                         save_as_real_size=True, linewidth=0.5, show_gfap=True,\n",
    "                                        figscale=3, width=10, height=10, save='Gfap', show=False)"
   ]
  },
  {
   "cell_type": "code",
   "execution_count": null,
   "id": "e9300fa0-37f8-41cc-8c85-cce7940ce839",
   "metadata": {},
   "outputs": [],
   "source": [
    "# Spatial cell type (only plot 9919)\n",
    "for sample in ['AD_mouse9919']:\n",
    "    print(sample)\n",
    "    \n",
    "    current_key = f\"{sample}_morph\"\n",
    "    current_index = sdata.obs['sample'] == sample\n",
    "    # change to new color \n",
    "    sdata.uns[current_key]['colors'] = sdata.obs.loc[current_index, 'top_level'].cat.codes.values\n",
    "    sdata.uns[current_key]['good_cells'] = sdata.obs.loc[current_index, 'orig_index'].astype(int).values\n",
    "    \n",
    "    su.plot_poly_cells_cluster_by_sample(sdata, sample, cmap, show_plaque=False, show_tau=False,\n",
    "                                         save_as_real_size=True, linewidth=0.1, show_gfap=True,\n",
    "                                        figscale=3, width=10, height=10, \n",
    "                                         save='only_Gfap_01', show=False, output_dir=os.path.join(base_path, 'figures'))"
   ]
  },
  {
   "cell_type": "markdown",
   "id": "brutal-introduction",
   "metadata": {},
   "source": [
    "### Spatial map of gene expression"
   ]
  },
  {
   "cell_type": "code",
   "execution_count": null,
   "id": "adjustable-property",
   "metadata": {},
   "outputs": [],
   "source": [
    "curr_gene = 'CPLX1'\n",
    "# subset_type = 'Oligo'\n",
    "subset_type = None\n",
    "\n",
    "cmap = sns.color_palette('viridis', as_cmap=True)\n",
    "for sample in sorted(adata.obs['sample'].unique()):\n",
    "    print(sample)\n",
    "    current_key = f\"{sample}_morph\"\n",
    "    \n",
    "    if subset_type is not None:\n",
    "        current_index = adata.obs['top_level'] == subset_type\n",
    "        sdata = adata[current_index, :]\n",
    "    else:\n",
    "        sdata = adata\n",
    "\n",
    "    current_index = sdata.obs['sample'] == sample\n",
    "    sdata.uns[current_key]['good_cells'] = sdata.obs.loc[current_index, 'orig_index'].astype(int).values\n",
    "        \n",
    "    su.plot_poly_cells_expr_by_sample(sdata, sample, curr_gene, cmap, use_raw=False,\n",
    "                                      figscale=30, width=10, height=10,\n",
    "                                      show_plaque=True, show_tau=True, show_tau_cells=False,\n",
    "                                      show=False, save=f'{curr_gene}_z')"
   ]
  }
 ],
 "metadata": {
  "kernelspec": {
   "display_name": "Python 3 (ipykernel)",
   "language": "python",
   "name": "python3"
  },
  "language_info": {
   "codemirror_mode": {
    "name": "ipython",
    "version": 3
   },
   "file_extension": ".py",
   "mimetype": "text/x-python",
   "name": "python",
   "nbconvert_exporter": "python",
   "pygments_lexer": "ipython3",
   "version": "3.8.10"
  }
 },
 "nbformat": 4,
 "nbformat_minor": 5
}
